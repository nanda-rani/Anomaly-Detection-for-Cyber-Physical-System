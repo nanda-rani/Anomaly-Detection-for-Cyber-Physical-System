{
  "nbformat": 4,
  "nbformat_minor": 0,
  "metadata": {
    "colab": {
      "name": "M PASAD SA1.ipynb",
      "provenance": []
    },
    "kernelspec": {
      "name": "python3",
      "display_name": "Python 3"
    },
    "language_info": {
      "name": "python"
    }
  },
  "cells": [
    {
      "cell_type": "code",
      "metadata": {
        "id": "fDiLytdmMHMn"
      },
      "source": [
        "import numpy as np\n",
        "import pandas as pd\n",
        "from scipy.linalg import hankel, eigh\n",
        "from matplotlib import pyplot as plt\n",
        "from matplotlib import style\n",
        "import time"
      ],
      "execution_count": null,
      "outputs": []
    },
    {
      "cell_type": "markdown",
      "metadata": {
        "id": "WXNL6VfXtzlN"
      },
      "source": [
        "# SA1 Attacks"
      ]
    },
    {
      "cell_type": "code",
      "metadata": {
        "id": "VeIZ9GU1r0d2"
      },
      "source": [
        "#hankel([1,2,3,4], [0,7,7,8,9])"
      ],
      "execution_count": null,
      "outputs": []
    },
    {
      "cell_type": "code",
      "metadata": {
        "id": "zbiSsnoNsTBF"
      },
      "source": [
        "#a = [[1,2],[3,4]]\n",
        "#b = [[5,6], [7,8]]\n",
        "#np.concatenate((a,b), axis = 1)"
      ],
      "execution_count": null,
      "outputs": []
    },
    {
      "cell_type": "code",
      "metadata": {
        "id": "2Oi-ORGFrLak"
      },
      "source": [
        "xmeas = np.asarray(pd.read_csv('/content/drive/MyDrive/TE-DATASET/1SA1xmv9_hundred_data_1.csv', header=None))"
      ],
      "execution_count": null,
      "outputs": []
    },
    {
      "cell_type": "code",
      "metadata": {
        "colab": {
          "base_uri": "https://localhost:8080/"
        },
        "id": "tCIZEw2Js5jW",
        "outputId": "0e3bf586-ca27-4d72-c8ca-ff31164c3ae0"
      },
      "source": [
        "N,n = xmeas.shape\n",
        "n"
      ],
      "execution_count": null,
      "outputs": [
        {
          "output_type": "execute_result",
          "data": {
            "text/plain": [
              "41"
            ]
          },
          "metadata": {},
          "execution_count": 5
        }
      ]
    },
    {
      "cell_type": "code",
      "metadata": {
        "id": "DVzukttsR47y"
      },
      "source": [
        "# n: no of sensor\n",
        "# N: no of time series measurement of each sensor\n",
        "# x is N*n matrix, Where N is no of time series sample and n is no of sensors\n",
        "# mu is a n*1 mean matrix\n",
        "# sigma is a n*1 standard deviation matrix\n",
        "\n",
        "# Normalize dataset to prevent some sensors from overweighing other sensors due to difference in scale.\n",
        "def normalization(x,mu,sigma):\n",
        "  for i in range(n):\n",
        "    for j in range(N):\n",
        "      x[j][i]= (x[j][i]-mu[i])//sigma[i]\n",
        "  return x"
      ],
      "execution_count": null,
      "outputs": []
    },
    {
      "cell_type": "code",
      "metadata": {
        "colab": {
          "base_uri": "https://localhost:8080/"
        },
        "id": "Nq9iUCDeK8C1",
        "outputId": "34cb0253-4f17-41b3-9b03-9a8dfe378818"
      },
      "source": [
        "mu = np.mean(xmeas, axis=0)\n",
        "#mu = mu[:,np.newaxis]\n",
        "#mu.shape\n",
        "\n",
        "sigma = np.std(xmeas, axis=0)\n",
        "#sigma = sigma[:,np.newaxis]\n",
        "#sigma[1]\n",
        "\n",
        "xmeas = normalization(xmeas,mu,sigma)\n",
        "xmeas.shape\n"
      ],
      "execution_count": null,
      "outputs": [
        {
          "output_type": "execute_result",
          "data": {
            "text/plain": [
              "(4801, 41)"
            ]
          },
          "metadata": {},
          "execution_count": 7
        }
      ]
    },
    {
      "cell_type": "code",
      "metadata": {
        "id": "PxTERGCIazFz"
      },
      "source": [
        "X_train_data = xmeas[:1500] # For training \n",
        "X_theta = xmeas[1000:3500] # For threshold calculation\n",
        "X_test = xmeas[2700:] # For detection"
      ],
      "execution_count": null,
      "outputs": []
    },
    {
      "cell_type": "code",
      "metadata": {
        "colab": {
          "base_uri": "https://localhost:8080/"
        },
        "id": "J59mMBbN8KH-",
        "outputId": "07f63b6b-a1f3-4e78-bd44-d3c8cd24f410"
      },
      "source": [
        "X_test.shape"
      ],
      "execution_count": null,
      "outputs": [
        {
          "output_type": "execute_result",
          "data": {
            "text/plain": [
              "(2101, 41)"
            ]
          },
          "metadata": {},
          "execution_count": 9
        }
      ]
    },
    {
      "cell_type": "code",
      "metadata": {
        "colab": {
          "base_uri": "https://localhost:8080/"
        },
        "id": "PZVarQyza6iR",
        "outputId": "3c8baf99-bffc-427b-9c58-ba13934d7910"
      },
      "source": [
        "X_train_data.shape"
      ],
      "execution_count": null,
      "outputs": [
        {
          "output_type": "execute_result",
          "data": {
            "text/plain": [
              "(1500, 41)"
            ]
          },
          "metadata": {},
          "execution_count": 10
        }
      ]
    },
    {
      "cell_type": "markdown",
      "metadata": {
        "id": "UHHxSffPq9qB"
      },
      "source": [
        "# **Embedding (Creating Lag Covariance Matrix)**"
      ]
    },
    {
      "cell_type": "code",
      "metadata": {
        "colab": {
          "base_uri": "https://localhost:8080/"
        },
        "id": "GdH9J6hjTGE9",
        "outputId": "f83bcd5c-32f3-4034-fa57-2e555b2c0d0f"
      },
      "source": [
        "N = len(X_train_data)\n",
        "L = 500\n",
        "#print(L)\n",
        "C = np.zeros([L,L], dtype = 'int')\n",
        "#print(C.shape)\n",
        "for i in range(n):\n",
        "  if i==0:\n",
        "    #print(i)\n",
        "    X = X_train_data[:, i]\n",
        "    h = hankel(X[:L],X[L-1:])\n",
        "    C = np.matmul(h , h.T)\n",
        "  else:\n",
        "    #print(i)\n",
        "    X = X_train_data[:, i]\n",
        "    #print(\"\\n X:\",X)\n",
        "    hn = hankel(X[:L],X[L-1:])\n",
        "    C = C + np.matmul(hn , hn.T)\n",
        "    hnk = np.concatenate((h,hn), axis=1)\n",
        "    h = hn\n",
        "print(C.shape, hnk.shape)"
      ],
      "execution_count": null,
      "outputs": [
        {
          "output_type": "stream",
          "name": "stdout",
          "text": [
            "(500, 500) (500, 2002)\n"
          ]
        }
      ]
    },
    {
      "cell_type": "code",
      "metadata": {
        "id": "YhP2SwWkbpjB"
      },
      "source": [
        "eigenValues, eigenVectors = eigh(C)"
      ],
      "execution_count": null,
      "outputs": []
    },
    {
      "cell_type": "code",
      "metadata": {
        "colab": {
          "base_uri": "https://localhost:8080/"
        },
        "id": "gcQcbcUThqsd",
        "outputId": "4c67ce93-289b-484a-9093-4f2ac6faede4"
      },
      "source": [
        "eigenValues.shape"
      ],
      "execution_count": null,
      "outputs": [
        {
          "output_type": "execute_result",
          "data": {
            "text/plain": [
              "(500,)"
            ]
          },
          "metadata": {},
          "execution_count": 13
        }
      ]
    },
    {
      "cell_type": "code",
      "metadata": {
        "colab": {
          "base_uri": "https://localhost:8080/"
        },
        "id": "GCO8ba6GhsnU",
        "outputId": "b6b69950-1e44-410d-90b5-607504ad3e2c"
      },
      "source": [
        "eigenVectors.shape"
      ],
      "execution_count": null,
      "outputs": [
        {
          "output_type": "execute_result",
          "data": {
            "text/plain": [
              "(500, 500)"
            ]
          },
          "metadata": {},
          "execution_count": 14
        }
      ]
    },
    {
      "cell_type": "code",
      "metadata": {
        "colab": {
          "base_uri": "https://localhost:8080/",
          "height": 549
        },
        "id": "xMu3GtCZhudc",
        "outputId": "1bb83d36-4337-4296-ca65-af35f85ac166"
      },
      "source": [
        "idx = eigenValues.argsort()[::-1]\n",
        "eigenValues = eigenValues[idx]\n",
        "eigenVectors = eigenVectors[:,idx]\n",
        "# Sree plot\n",
        "fig, ax = plt.subplots(1, 1, figsize=(10,8))\n",
        "ax.plot(eigenValues)\n",
        "#print(eigenValues)\n",
        "print(np.sum(eigenValues[0:55])/np.sum(eigenValues))\n",
        "ax.set_title(\"Screeplot\")\n",
        "ax.set_ylabel(\"Eigen value ->\")\n",
        "ax.set_xlabel(\"Cardinal Number of Eigen value ->\")"
      ],
      "execution_count": null,
      "outputs": [
        {
          "output_type": "stream",
          "name": "stdout",
          "text": [
            "0.730004295436243\n"
          ]
        },
        {
          "output_type": "execute_result",
          "data": {
            "text/plain": [
              "Text(0.5, 0, 'Cardinal Number of Eigen value ->')"
            ]
          },
          "metadata": {},
          "execution_count": 15
        },
        {
          "output_type": "display_data",
          "data": {
            "image/png": "[encoded data removed]",
            "text/plain": [
              "<Figure size 720x576 with 1 Axes>"
            ]
          },
          "metadata": {
            "needs_background": "light"
          }
        }
      ]
    },
    {
      "cell_type": "code",
      "metadata": {
        "colab": {
          "base_uri": "https://localhost:8080/"
        },
        "id": "PI7HymIGiGdG",
        "outputId": "07558218-dd69-42b2-dd5c-3566eea170f2"
      },
      "source": [
        "# From the above scree plot, it is seen that the first eigen value is more \n",
        "# significant and the other eigen values are close to zero. Thus we choose r as 1\n",
        "# and then we compute the U for projection and centroid in the signal subspace\n",
        "r = 55\n",
        "U = eigenVectors[:,:r] # r as statistical dimension\n",
        "UT = U.T\n",
        "UT.shape"
      ],
      "execution_count": null,
      "outputs": [
        {
          "output_type": "execute_result",
          "data": {
            "text/plain": [
              "(55, 500)"
            ]
          },
          "metadata": {},
          "execution_count": 16
        }
      ]
    },
    {
      "cell_type": "code",
      "metadata": {
        "colab": {
          "base_uri": "https://localhost:8080/"
        },
        "id": "BzmrCPnmuATi",
        "outputId": "9b90677c-0042-468c-f405-6e39ad314a55"
      },
      "source": [
        "Xtrg = np.linalg.norm(X_train_data, axis=1, ord=2)\n",
        "Xtrg_lag = hankel(Xtrg[:L],Xtrg[L-1:])\n",
        "Xtrg_lag.shape"
      ],
      "execution_count": null,
      "outputs": [
        {
          "output_type": "execute_result",
          "data": {
            "text/plain": [
              "(500, 1001)"
            ]
          },
          "metadata": {},
          "execution_count": 17
        }
      ]
    },
    {
      "cell_type": "code",
      "metadata": {
        "colab": {
          "base_uri": "https://localhost:8080/"
        },
        "id": "m8Lhprh-F09B",
        "outputId": "47cbfa21-440b-4d92-88af-29f5f36052da"
      },
      "source": [
        "sub = np.matmul(UT, Xtrg_lag)\n",
        "sub.shape"
      ],
      "execution_count": null,
      "outputs": [
        {
          "output_type": "execute_result",
          "data": {
            "text/plain": [
              "(55, 1001)"
            ]
          },
          "metadata": {},
          "execution_count": 18
        }
      ]
    },
    {
      "cell_type": "code",
      "metadata": {
        "colab": {
          "base_uri": "https://localhost:8080/"
        },
        "id": "P9b6kPu-F01i",
        "outputId": "665e6ff7-07d4-48d3-d8cd-a578da6b19c8"
      },
      "source": [
        "c = np.mean(sub,axis=1)\n",
        "c = c[:,np.newaxis]\n",
        "c.shape"
      ],
      "execution_count": null,
      "outputs": [
        {
          "output_type": "execute_result",
          "data": {
            "text/plain": [
              "(55, 1)"
            ]
          },
          "metadata": {},
          "execution_count": 19
        }
      ]
    },
    {
      "cell_type": "code",
      "metadata": {
        "colab": {
          "base_uri": "https://localhost:8080/"
        },
        "id": "--08HnjNr57h",
        "outputId": "8ac2e90c-f6d9-4afb-cf04-05fb9baaadb1"
      },
      "source": [
        "X_train_data\n",
        "Xtrain = np.linalg.norm(X_train_data, axis=1, ord=2)\n",
        "Xtrain_lag = hankel(Xtrain[:L],Xtrain[L-1:])\n",
        "print(Xtrain_lag.shape)\n",
        "\n",
        "sub_train = np.matmul(UT, Xtrain_lag)\n",
        "dep_score_train = sub_train - c\n",
        "#dep_score.shape\n",
        "dt_scores_train = np.linalg.norm(dep_score_train, axis=0, ord=2)"
      ],
      "execution_count": null,
      "outputs": [
        {
          "output_type": "stream",
          "name": "stdout",
          "text": [
            "(500, 1001)\n"
          ]
        }
      ]
    },
    {
      "cell_type": "code",
      "metadata": {
        "colab": {
          "base_uri": "https://localhost:8080/"
        },
        "id": "IsgK4-QYF0w3",
        "outputId": "3a9a8844-25ef-49ea-f3f8-cc38f690b3c9"
      },
      "source": [
        "X_theta\n",
        "Xval = np.linalg.norm(X_theta, axis=1, ord=2)\n",
        "Xval_lag = hankel(Xval[:L],Xval[L-1:])\n",
        "print(Xval_lag.shape)\n",
        "\n",
        "sub_val = np.matmul(UT, Xval_lag)\n",
        "dep_score = sub_val - c\n",
        "#dep_score.shape\n",
        "dt_scores = np.linalg.norm(dep_score, axis=0, ord=2)\n",
        "#dt_scores.shape\n",
        "dt_theta = np.max(dt_scores)*1.1\n",
        "dt_theta"
      ],
      "execution_count": null,
      "outputs": [
        {
          "output_type": "stream",
          "name": "stdout",
          "text": [
            "(500, 2001)\n"
          ]
        },
        {
          "output_type": "execute_result",
          "data": {
            "text/plain": [
              "16.64634421777707"
            ]
          },
          "metadata": {},
          "execution_count": 21
        }
      ]
    },
    {
      "cell_type": "code",
      "metadata": {
        "colab": {
          "base_uri": "https://localhost:8080/"
        },
        "id": "z2djq6VbfVHr",
        "outputId": "93c412a5-807b-4529-d629-b2732e3f118c"
      },
      "source": [
        "X_test\n",
        "start = time.time()\n",
        "Xtest = np.linalg.norm(X_test, axis=1, ord=2)\n",
        "Xtest_lag = hankel(Xtest[:L],Xtest[L-1:])\n",
        "print(Xtest_lag.shape)\n",
        "\n",
        "sub_test = np.matmul(UT, Xtest_lag)\n",
        "dep_score_test = sub_test - c\n",
        "#dep_score.shape\n",
        "dt_scores_test = np.linalg.norm(dep_score_test, axis=0, ord=2)\n",
        "end = time.time()\n",
        "print(\"Time taken for testing is:\",(end-start))\n",
        "print(dt_scores.shape)\n",
        "dt_theta_test = np.max(dt_scores_test)\n",
        "dt_theta_test"
      ],
      "execution_count": null,
      "outputs": [
        {
          "output_type": "stream",
          "name": "stdout",
          "text": [
            "(500, 1602)\n",
            "Time taken for testing is: 0.012842178344726562\n",
            "(2001,)\n"
          ]
        },
        {
          "output_type": "execute_result",
          "data": {
            "text/plain": [
              "99.62675368872527"
            ]
          },
          "metadata": {},
          "execution_count": 30
        }
      ]
    },
    {
      "cell_type": "markdown",
      "metadata": {
        "id": "0ryfSf2NkMM8"
      },
      "source": [
        "# **Visualizing the Departure Score**"
      ]
    },
    {
      "cell_type": "code",
      "metadata": {
        "colab": {
          "base_uri": "https://localhost:8080/",
          "height": 266
        },
        "id": "9OKrwxVgsjvq",
        "outputId": "c7e4249f-b8a3-4044-9174-9fb9fe427b45"
      },
      "source": [
        "#Testing Plots and Subplots\n",
        "style.use('default')\n",
        "box = dict(facecolor='yellow', pad=3, alpha=0.2)\n",
        "fig = plt.figure(figsize=(10,7))\n",
        "ax = fig.add_subplot(211)\n",
        "\n",
        "ax.set_xlim(0,5000)\n",
        "# ax2.set_ylim(0,10)\n",
        "\n",
        "xlables = list(range(0,5000,10)) # for both plots\n",
        "\n",
        "\n",
        "\n",
        "# Plotting departure score\n",
        "dy = dt_scores_train\n",
        "dx = list(range(L,len(dy)+L))\n",
        "ax.plot(dx, dy, 'c', label='Training phase')\n",
        "dy = dt_scores\n",
        "dx = list(range(1500,len(dy)+1500))\n",
        "ax.plot(dx, dy, 'b', label='Threshold calculation')\n",
        "dy = dt_scores_test\n",
        "dx = list(range(3200,len(dy)+3200))\n",
        "print(len(dx),len(dy))\n",
        "ax.plot(dx, dy, 'r', label='Detection Phase')\n",
        "ylim = list(ax.get_ylim())\n",
        "ax.vlines(4000,ylim[0],ylim[1],linestyles='dashed', colors='r')\n",
        "ax.set_xticklabels(xlables)\n",
        "ax.hlines(dt_theta,0,5000,linestyles='dashed', label='Alarm Threshold')\n",
        "ax.set_xlabel('Time in hours', bbox=box)\n",
        "ax.set_ylabel('Departure Score', bbox=box)\n",
        "\n",
        "X = np.array([[4000,5000],[4000,5000]])\n",
        "Y = np.array([[ylim[0],ylim[0]],[ylim[1],ylim[1]]])\n",
        "C = np.array([[4000,4500]])\n",
        "ax.pcolormesh(X, Y, C, cmap='cool_r', alpha=0.2)\n",
        "ax.legend(loc='upper left')\n",
        "fig.align_ylabels([ax])"
      ],
      "execution_count": null,
      "outputs": [
        {
          "output_type": "stream",
          "name": "stdout",
          "text": [
            "1602 1602\n"
          ]
        },
        {
          "output_type": "display_data",
          "data": {
            "image/png": "[encoded data removed]",
            "text/plain": [
              "<Figure size 1000x700 with 1 Axes>"
            ]
          },
          "metadata": {}
        }
      ]
    },
    {
      "cell_type": "code",
      "metadata": {
        "colab": {
          "base_uri": "https://localhost:8080/"
        },
        "id": "17GJ8IbGfVEu",
        "outputId": "b80ed0a9-bc1f-4d32-9f06-2b85e5188eb1"
      },
      "source": [
        "sub_test.shape"
      ],
      "execution_count": null,
      "outputs": [
        {
          "output_type": "execute_result",
          "data": {
            "text/plain": [
              "(55, 1602)"
            ]
          },
          "metadata": {},
          "execution_count": 24
        }
      ]
    },
    {
      "cell_type": "code",
      "metadata": {
        "colab": {
          "base_uri": "https://localhost:8080/"
        },
        "id": "45WzXQgEfVB3",
        "outputId": "f7444fa4-7b1e-48f0-8863-0422c4540e0b"
      },
      "source": [
        "dt_scores_test.shape"
      ],
      "execution_count": null,
      "outputs": [
        {
          "output_type": "execute_result",
          "data": {
            "text/plain": [
              "(1602,)"
            ]
          },
          "metadata": {},
          "execution_count": 25
        }
      ]
    },
    {
      "cell_type": "code",
      "metadata": {
        "colab": {
          "base_uri": "https://localhost:8080/"
        },
        "id": "r0LQ6ksqF0s0",
        "outputId": "1816af84-4c9d-42f5-de12-668ce2b119c4"
      },
      "source": [
        "FP = 0\n",
        "for i in range(0,800):\n",
        "  if dt_scores_test[i] > dt_theta:\n",
        "    FP += 1\n",
        "print(FP)\n",
        "\n",
        "TN = 0\n",
        "for i in range(800,len(dt_scores_test)):\n",
        "  if dt_scores_test[i] > dt_theta:\n",
        "    TN+=1\n",
        "TN"
      ],
      "execution_count": null,
      "outputs": [
        {
          "output_type": "stream",
          "name": "stdout",
          "text": [
            "82\n"
          ]
        },
        {
          "output_type": "execute_result",
          "data": {
            "text/plain": [
              "802"
            ]
          },
          "metadata": {},
          "execution_count": 26
        }
      ]
    },
    {
      "cell_type": "code",
      "metadata": {
        "id": "lXgTv69Y7ZUP",
        "colab": {
          "base_uri": "https://localhost:8080/"
        },
        "outputId": "eeedddd3-679c-4097-b068-106bac28d0aa"
      },
      "source": [
        "TP = 800-FP \n",
        "FN = 802-TN\n",
        "#print(TP,FP,TN,FN)\n",
        "# Precision\n",
        "prec = TP/(TP+FP)\n",
        "rec = TP/(TP+FN)\n",
        "acc = (TP+TN)/(TP+FP+TN+FN)\n",
        "f1 = (2*prec*rec)/(prec+rec)\n",
        "print(\"Precision:\",prec, \"\\nRecall:\", rec,\"\\nF1-Score:\",f1, \"\\nAccuracy:\", acc)"
      ],
      "execution_count": null,
      "outputs": [
        {
          "output_type": "stream",
          "name": "stdout",
          "text": [
            "Precision: 0.8975 \n",
            "Recall: 1.0 \n",
            "F1-Score: 0.9459815546772068 \n",
            "Accuracy: 0.9488139825218477\n"
          ]
        }
      ]
    },
    {
      "cell_type": "code",
      "metadata": {
        "id": "Xe7uZzJe3E9r"
      },
      "source": [
        ""
      ],
      "execution_count": null,
      "outputs": []
    }
  ]
}